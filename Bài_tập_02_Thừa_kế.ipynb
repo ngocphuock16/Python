{
  "nbformat": 4,
  "nbformat_minor": 0,
  "metadata": {
    "colab": {
      "name": "Bài tập 02: Thừa kế.ipynb",
      "provenance": [],
      "authorship_tag": "ABX9TyOoiPuzTh8PT2tOPdk2Zg/V",
      "include_colab_link": true
    },
    "kernelspec": {
      "name": "python3",
      "display_name": "Python 3"
    }
  },
  "cells": [
    {
      "cell_type": "markdown",
      "metadata": {
        "id": "view-in-github",
        "colab_type": "text"
      },
      "source": [
        "<a href=\"https://colab.research.google.com/github/ngocphuock16/Python/blob/main/B%C3%A0i_t%E1%BA%ADp_02_Th%E1%BB%ABa_k%E1%BA%BF.ipynb\" target=\"_parent\"><img src=\"https://colab.research.google.com/assets/colab-badge.svg\" alt=\"Open In Colab\"/></a>"
      ]
    },
    {
      "cell_type": "code",
      "metadata": {
        "id": "Z6jIzJNI2g8G"
      },
      "source": [
        "class Car:\r\n",
        "  color = 'white'\r\n",
        "\r\n",
        "  def __init__(self, name, engine):\r\n",
        "    self.name = name\r\n",
        "    self.engine = engine\r\n",
        "  \r\n",
        "  def setColor(self, color):\r\n",
        "    self.color = color\r\n",
        "  \r\n",
        "  def setEngine(self, engine):\r\n",
        "    self.engine = engine\r\n",
        "  \r\n",
        "  def setName(self, name):\r\n",
        "    self.name = name\r\n",
        "  \r\n",
        "  def getEngine(self):\r\n",
        "    return self.engine\r\n",
        "  \r\n",
        "  def toString(self):\r\n",
        "    s = 'Xe {} có màu {} và động cơ {} mã lực'.format(self.name, self.color, self.engine)\r\n",
        "    return(s)"
      ],
      "execution_count": 1,
      "outputs": []
    },
    {
      "cell_type": "code",
      "metadata": {
        "colab": {
          "base_uri": "https://localhost:8080/"
        },
        "id": "bYlvzdZD3NJ5",
        "outputId": "119a28af-acac-49a5-9eff-9e199611120b"
      },
      "source": [
        "fadil = Car('Vinfast Fadil', 1.4)\r\n",
        "print(fadil.toString())"
      ],
      "execution_count": 6,
      "outputs": [
        {
          "output_type": "stream",
          "text": [
            "Xe Vinfast Fadil có màu white và động cơ 1.4 mã lực\n"
          ],
          "name": "stdout"
        }
      ]
    },
    {
      "cell_type": "code",
      "metadata": {
        "id": "Oi13dx2q2k_J"
      },
      "source": [
        "class Truck(Car):\r\n",
        "  def __init__(self, name, engine, power):\r\n",
        "    super().__init__(name,engine)\r\n",
        "    self.power=power\r\n",
        "  \r\n",
        "  def __str__(self):\r\n",
        "    s = 'Xe {} có màu {} ,động cơ {} mã lực, công suất kéo {}'.format(self.name, self.color, self.engine,self.power)\r\n",
        "    return(s)\r\n"
      ],
      "execution_count": 20,
      "outputs": []
    },
    {
      "cell_type": "code",
      "metadata": {
        "colab": {
          "base_uri": "https://localhost:8080/"
        },
        "id": "8hWDGhQ14Loo",
        "outputId": "81b6f0c3-c8a6-4f33-fc63-8bc96cf60de5"
      },
      "source": [
        "truck=Truck(\"Honda CRV\",2.3,1000)\r\n",
        "print(truck)"
      ],
      "execution_count": 21,
      "outputs": [
        {
          "output_type": "stream",
          "text": [
            "Xe Honda CRV có màu white ,động cơ 2.3 mã lực, công suất kéo 1000\n"
          ],
          "name": "stdout"
        }
      ]
    }
  ]
}